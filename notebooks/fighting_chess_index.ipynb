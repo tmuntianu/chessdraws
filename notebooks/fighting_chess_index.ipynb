{
 "cells": [
  {
   "cell_type": "code",
   "execution_count": 1,
   "id": "72c2fce6",
   "metadata": {},
   "outputs": [],
   "source": [
    "import pandas as pd\n",
    "import numpy as np\n",
    "import matplotlib.pyplot as plt\n",
    "# from sklearn.decomposition import PCA\n",
    "from sklearn.decomposition import FactorAnalysis\n",
    "\n",
    "from tqdm import tqdm\n",
    "\n",
    "import pyro\n",
    "import torch\n",
    "from pyro.infer import SVI, Trace_ELBO, Predictive\n",
    "import pyro.distributions as dist\n",
    "from pyro.infer.autoguide.guides import AutoDelta, AutoMultivariateNormal\n",
    "from pyro.optim import Adam\n",
    "\n",
    "torch.set_default_tensor_type(torch.cuda.FloatTensor)\n",
    "pyro.enable_validation(True)\n",
    "\n",
    "tqdm.pandas()"
   ]
  },
  {
   "cell_type": "code",
   "execution_count": 2,
   "id": "3a93904b",
   "metadata": {},
   "outputs": [],
   "source": [
    "feature_df = pd.read_csv('../data/features.csv', index_col=0)\n",
    "# pca = PCA()\n",
    "# pca.fit(feature_df)\n",
    "# print(pca.explained_variance_ratio_)"
   ]
  },
  {
   "cell_type": "code",
   "execution_count": 3,
   "id": "a3c967af",
   "metadata": {},
   "outputs": [],
   "source": [
    "data = torch.from_numpy(feature_df.values)\n",
    "data = data.type(torch.float32).cuda()\n",
    "\n",
    "n_factors = 3"
   ]
  },
  {
   "cell_type": "code",
   "execution_count": null,
   "id": "c10fab1a",
   "metadata": {},
   "outputs": [],
   "source": [
    "ss = 2000\n",
    "# factor model according to Bishop - needs some adjustment and description in paper\n",
    "def factor_model(data):\n",
    "    W = pyro.param('W', torch.ones((data.shape[-1], n_factors)))\n",
    "    mu = pyro.param('mu', torch.zeros(data.shape[-1]))\n",
    "    theta = pyro.sample('theta', dist.HalfCauchy(torch.ones(data.shape[-1])).to_event(1))\n",
    "    L_omega = pyro.sample('L_omega', dist.LKJCholesky(data.shape[-1], torch.ones(())))\n",
    "    L_Omega = torch.mm(torch.diag(theta.sqrt()), L_omega)    \n",
    "    i = 0\n",
    "    with pyro.plate('data', len(data), subsample_size=ss) as ind:\n",
    "        i += 1\n",
    "        batch = data[ind]\n",
    "        eps = pyro.sample(f'eps_{i}', dist.MultivariateNormal(torch.zeros(data.shape[-1]), scale_tril=L_Omega).expand([ss]))\n",
    "        z = pyro.sample(f'lat_{i}', dist.MultivariateNormal(torch.zeros(n_factors), torch.eye(n_factors)).expand([ss]))\n",
    "        pyro.sample(f'obs_{i}', dist.MultivariateNormal(\n",
    "            (W @ z.permute(1,0)).permute(1,0) + mu + eps, \n",
    "            torch.eye(data.shape[-1])).expand([ss]), obs=batch)"
   ]
  },
  {
   "cell_type": "code",
   "execution_count": null,
   "id": "09b6b1a0",
   "metadata": {
    "scrolled": true
   },
   "outputs": [],
   "source": [
    "# variational distribution for SVI optimization\n",
    "def factor_guide(data):\n",
    "    W_ = pyro.param('W_', torch.ones((n_factors, data.shape[-1])))\n",
    "    theta_ = pyro.sample('theta', dist.HalfCauchy(torch.ones(data.shape[-1])).to_event(1))\n",
    "    L_omega_ = pyro.sample('L_omega', dist.LKJCholesky(data.shape[-1], torch.ones(())))\n",
    "    L_Omega_ = torch.mm(torch.diag(theta_.sqrt()), L_omega_)\n",
    "    i = 0 \n",
    "    with pyro.plate('data', len(data), subsample_size=ss) as ind:\n",
    "        i += 1\n",
    "        batch = data[ind]\n",
    "        eps = pyro.sample(f'eps_{i}', dist.MultivariateNormal(torch.zeros(data.shape[-1]), scale_tril=L_Omega_).expand([ss]))\n",
    "        pyro.sample(f'lat_{i}', dist.MultivariateNormal((W_ @ (batch + eps).permute(1,0)).permute(1,0), torch.eye(n_factors)).expand([ss]))\n",
    "\n",
    "\n",
    "optimizer = Adam({\"lr\": 0.005, \"betas\": (0.9, 0.999)})\n",
    "svi = SVI(factor_model, factor_guide, optimizer, loss=Trace_ELBO())\n",
    "\n",
    "n_steps = 100\n",
    "losses = []\n",
    "for i in tqdm(range(n_steps)):\n",
    "    elbo = svi.step(data)\n",
    "    losses.append(elbo)"
   ]
  },
  {
   "cell_type": "code",
   "execution_count": null,
   "id": "8f381cb0",
   "metadata": {},
   "outputs": [],
   "source": [
    "# svi = SVI(factor_model, AutoDelta(factor_model), optimizer, loss=Trace_ELBO())\n",
    "\n",
    "# n_steps = 1000\n",
    "# losses = []\n",
    "# for i in tqdm(range(n_steps)):\n",
    "#     elbo = svi.step(data)\n",
    "#     losses.append(elbo)"
   ]
  },
  {
   "cell_type": "code",
   "execution_count": 24,
   "id": "38f81412",
   "metadata": {},
   "outputs": [
    {
     "name": "stdout",
     "output_type": "stream",
     "text": [
      "74525953.9136256 52025231.71525383\n"
     ]
    },
    {
     "data": {
      "image/png": "[encoded data removed]",
      "text/plain": [
       "<Figure size 360x144 with 1 Axes>"
      ]
     },
     "metadata": {
      "needs_background": "light"
     },
     "output_type": "display_data"
    }
   ],
   "source": [
    "plt.figure(figsize=(5, 2))\n",
    "plt.plot(losses)\n",
    "plt.xlabel(\"SVI step\")\n",
    "plt.ylabel(\"ELBO loss\")\n",
    "\n",
    "print(losses[-1], min(losses))"
   ]
  },
  {
   "cell_type": "code",
   "execution_count": null,
   "id": "0b6e9a04",
   "metadata": {
    "scrolled": true
   },
   "outputs": [],
   "source": [
    "# misc notes\n",
    "# my guide 15587453918.40625 13617469233.078125\n",
    "# autodelt 123527770434.49672\n",
    "# automvn\n",
    "list(pyro.get_param_store().items())"
   ]
  },
  {
   "cell_type": "code",
   "execution_count": 4,
   "id": "9e43c933",
   "metadata": {
    "scrolled": false
   },
   "outputs": [],
   "source": []
  },
  {
   "cell_type": "code",
   "execution_count": 5,
   "id": "21749ecf",
   "metadata": {},
   "outputs": [],
   "source": [
    "# sklearn's factor model for comparison\n",
    "transformer = FactorAnalysis(n_components=3, random_state=0)\n",
    "latent_features = transformer.fit_transform(feature_df.values)\n",
    "latent_features = torch.from_numpy(latent_features).type(torch.float32).cuda()"
   ]
  },
  {
   "cell_type": "code",
   "execution_count": 3,
   "id": "4f8c92ef",
   "metadata": {},
   "outputs": [],
   "source": [
    "# read games in\n",
    "df = pd.read_csv('../data/games.csv', index_col=0)\n",
    "names_to_ids = {n : i for i, n in enumerate(feature_df.index)}\n",
    "names = names_to_ids.keys()\n",
    "df = df[df['White'].isin(names) & df['Black'].isin(names)]\n",
    "\n",
    "features = feature_df.values\n",
    "res_dict = {\n",
    "    '1-0': torch.tensor(0),\n",
    "    '1/2-1/2': torch.tensor(1),\n",
    "    '0-1': torch.tensor(2)\n",
    "}\n",
    "\n",
    "# get list of white player indexes and black player indexes\n",
    "# w_ids holds the idx of the white player in features so we can look up their latent vars, similar for b_ids\n",
    "# res holds the result of the games\n",
    "w_ids = torch.tensor(list(df['White'].apply(lambda x: names_to_ids[x])))\n",
    "b_ids = torch.tensor(list(df['Black'].apply(lambda x: names_to_ids[x])))\n",
    "res = torch.tensor(list(df['Result'].apply(lambda x: res_dict[x])))"
   ]
  },
  {
   "cell_type": "code",
   "execution_count": 4,
   "id": "43cfc2d0",
   "metadata": {},
   "outputs": [
    {
     "data": {
      "text/plain": [
       "4695527"
      ]
     },
     "execution_count": 4,
     "metadata": {},
     "output_type": "execute_result"
    }
   ],
   "source": [
    "len(w_ids)"
   ]
  },
  {
   "cell_type": "code",
   "execution_count": 68,
   "id": "9ce07306",
   "metadata": {
    "scrolled": false
   },
   "outputs": [
    {
     "name": "stderr",
     "output_type": "stream",
     "text": [
      "100%|██████████████████████████████████████████████████████████████| 1000/1000 [01:10<00:00, 14.12it/s]\n"
     ]
    }
   ],
   "source": [
    "# batch size\n",
    "ss = 200\n",
    "\n",
    "# subset the data to the batch size, ie, only learn on a very small dataset for testing purposes ONLY\n",
    "w_ids = w_ids[:ss]\n",
    "b_ids = b_ids[:ss]\n",
    "res = res[:ss]\n",
    "\n",
    "# this is the game model as desc in the paper\n",
    "def game_model(w_ids, b_ids, res):\n",
    "    A = pyro.param('A', torch.ones((n_factors, n_factors)))\n",
    "    B = pyro.param('B', torch.ones((n_factors, n_factors)))\n",
    "    sigma = pyro.sample('sigma', dist.Gamma(1, 0.5).expand([n_factors]).to_event(1))\n",
    "    \n",
    "    with pyro.plate('data', len(w_ids), subsample_size=ss) as ind:\n",
    "        w_batch = latent_features[w_ids[ind]]\n",
    "        b_batch = latent_features[b_ids[ind]]\n",
    "        res_batch = res[ind]\n",
    "        p = pyro.sample('p', dist.MultivariateNormal((A @ w_batch.T).T + (B @ b_batch.T).T, sigma * torch.eye(n_factors)).expand([ss]))\n",
    "        p_pos = torch.nn.functional.softplus(p)\n",
    "        p_norm = p_pos / torch.sum(p_pos, 1)[:, None]\n",
    "        pyro.sample('obs', dist.Categorical(p_norm), obs=res_batch)\n",
    "        return ind, p_norm\n",
    "\n",
    "optimizer = Adam({\"lr\": 0.005, \"betas\": (0.9, 0.999)})\n",
    "game_guide = AutoMultivariateNormal(game_model)\n",
    "svi = SVI(game_model, game_guide, optimizer, loss=Trace_ELBO())\n",
    "\n",
    "n_steps = 1000\n",
    "losses = []\n",
    "for i in tqdm(range(n_steps)):\n",
    "    elbo = svi.step(w_ids, b_ids, res)\n",
    "    losses.append(elbo)"
   ]
  },
  {
   "cell_type": "code",
   "execution_count": 87,
   "id": "37f2775b",
   "metadata": {
    "scrolled": true
   },
   "outputs": [],
   "source": [
    "# pred = Predictive(game_model, guide=game_guide, num_samples=1)(w_ids, b_ids, res)\n",
    "# computing p_norms\n",
    "params = pyro.get_param_store()\n",
    "A = params['A']; B = params['B']\n",
    "p = (A @ latent_features[w_ids].T).T + (B @ latent_features[b_ids].T).T\n",
    "p_pos = torch.nn.functional.softplus(p)\n",
    "p_norm = p_pos / torch.sum(p_pos, 1)[:, None]"
   ]
  },
  {
   "cell_type": "code",
   "execution_count": 104,
   "id": "aaa08a94",
   "metadata": {},
   "outputs": [],
   "source": [
    "# compute E_A according to rating\n",
    "rating_diff = df['WhiteElo'][:ss] - df['BlackElo'][:ss]\n",
    "E_A = 1 / (1 + 10 ** (rating_diff / 400))\n",
    "\n",
    "# compute E_A_hat from model estimates\n",
    "E_A_est = p_norm[:,0] + 0.5 * p_norm[:,1]"
   ]
  },
  {
   "cell_type": "code",
   "execution_count": 105,
   "id": "12bc2101",
   "metadata": {
    "scrolled": false
   },
   "outputs": [],
   "source": [
    "diff_E_A = E_A - E_A_est.cpu().detach().numpy()"
   ]
  },
  {
   "cell_type": "code",
   "execution_count": 106,
   "id": "21e6734a",
   "metadata": {},
   "outputs": [
    {
     "data": {
      "text/plain": [
       "104.5"
      ]
     },
     "execution_count": 106,
     "metadata": {},
     "output_type": "execute_result"
    }
   ],
   "source": [
    "counts = df['Result'][:ss].value_counts()\n",
    "counts['1-0'] + 0.5 * counts['1/2-1/2']"
   ]
  },
  {
   "cell_type": "code",
   "execution_count": 107,
   "id": "e0bc8974",
   "metadata": {},
   "outputs": [
    {
     "name": "stdout",
     "output_type": "stream",
     "text": [
      "102.74535588641909 tensor(101.3834, grad_fn=<AddBackward0>)\n"
     ]
    }
   ],
   "source": [
    "print(sum(E_A), sum(E_A_est))"
   ]
  },
  {
   "cell_type": "code",
   "execution_count": 113,
   "id": "e25cca25",
   "metadata": {},
   "outputs": [
    {
     "data": {
      "text/plain": [
       "0.19223187327739671"
      ]
     },
     "execution_count": 113,
     "metadata": {},
     "output_type": "execute_result"
    }
   ],
   "source": [
    "np.std(E_A)"
   ]
  },
  {
   "cell_type": "code",
   "execution_count": 109,
   "id": "67838183",
   "metadata": {},
   "outputs": [
    {
     "data": {
      "text/plain": [
       "tensor(0.0602, grad_fn=<StdBackward0>)"
      ]
     },
     "execution_count": 109,
     "metadata": {},
     "output_type": "execute_result"
    }
   ],
   "source": [
    "# initially much lower variance than E_A, could change as dataset grows\n",
    "torch.std(E_A_est)"
   ]
  },
  {
   "cell_type": "code",
   "execution_count": 100,
   "id": "65580328",
   "metadata": {},
   "outputs": [
    {
     "data": {
      "text/plain": [
       "2334809.669280829"
      ]
     },
     "execution_count": 100,
     "metadata": {},
     "output_type": "execute_result"
    }
   ],
   "source": [
    "rating_diff = df['WhiteElo'] - df['BlackElo']\n",
    "E_A = 1 / (1 + 10 ** (rating_diff / 400))\n",
    "sum(E_A)"
   ]
  },
  {
   "cell_type": "code",
   "execution_count": 101,
   "id": "235d0e6a",
   "metadata": {},
   "outputs": [
    {
     "data": {
      "text/plain": [
       "2551169.5"
      ]
     },
     "execution_count": 101,
     "metadata": {},
     "output_type": "execute_result"
    }
   ],
   "source": [
    "counts = df['Result'].value_counts()\n",
    "counts['1-0'] + 0.5 * counts['1/2-1/2']"
   ]
  }
 ],
 "metadata": {
  "kernelspec": {
   "display_name": "Python 3 (ipykernel)",
   "language": "python",
   "name": "python3"
  },
  "language_info": {
   "codemirror_mode": {
    "name": "ipython",
    "version": 3
   },
   "file_extension": ".py",
   "mimetype": "text/x-python",
   "name": "python",
   "nbconvert_exporter": "python",
   "pygments_lexer": "ipython3",
   "version": "3.9.7"
  }
 },
 "nbformat": 4,
 "nbformat_minor": 5
}
