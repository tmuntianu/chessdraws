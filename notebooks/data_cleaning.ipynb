{
 "cells": [
  {
   "cell_type": "code",
   "execution_count": 1,
   "id": "5a35268b",
   "metadata": {},
   "outputs": [],
   "source": [
    "from chess import pgn\n",
    "from thefuzz import process\n",
    "import pandas as pd\n",
    "from tqdm import tqdm\n",
    "from collections import Counter"
   ]
  },
  {
   "cell_type": "code",
   "execution_count": 2,
   "id": "e30335f4",
   "metadata": {},
   "outputs": [
    {
     "name": "stderr",
     "output_type": "stream",
     "text": [
      "100%|█████| 5611947/5611947 [04:18<00:00, 21681.08it/s]\n"
     ]
    }
   ],
   "source": [
    "fields = ['White', 'WhiteElo', 'Black', 'BlackElo', 'Result', 'Date']\n",
    "data = []\n",
    "with tqdm(total=5611947) as pbar:\n",
    "    with open('../data/caissabase.pgn') as database:\n",
    "        head = pgn.read_headers(database)\n",
    "        gidx = 0\n",
    "        while head is not None:\n",
    "            try: \n",
    "                row = [gidx] + [head[x] for x in fields]\n",
    "                misc = ''\n",
    "                if 'Event' in head: misc += head['Event']\n",
    "                if 'Site' in head: misc += head['Site']\n",
    "                row.append(misc)\n",
    "                data.append(row)\n",
    "            except: pass\n",
    "            head = pgn.read_headers(database)\n",
    "            pbar.update(1)\n",
    "            gidx += 1"
   ]
  },
  {
   "cell_type": "code",
   "execution_count": 3,
   "id": "f4f61d8c",
   "metadata": {},
   "outputs": [],
   "source": [
    "df = pd.DataFrame(data, columns=['GameIdx'] + fields + ['Misc'])"
   ]
  },
  {
   "cell_type": "code",
   "execution_count": 4,
   "id": "b4a0c501",
   "metadata": {},
   "outputs": [
    {
     "name": "stderr",
     "output_type": "stream",
     "text": [
      "  0%|                       | 0/137774 [00:00<?, ?it/s]WARNING:root:Applied processor reduces input query to empty string, all comparisons will have score 0. [Query: '']\n",
      "WARNING:root:Applied processor reduces input query to empty string, all comparisons will have score 0. [Query: '?']\n",
      "100%|█████████| 137774/137774 [03:54<00:00, 587.46it/s]\n"
     ]
    }
   ],
   "source": [
    "names = set(pd.concat([df['White'], df['Black']]))\n",
    "all_names = sorted(names)\n",
    "name_dict = dict()\n",
    "\n",
    "for i, name in enumerate(tqdm(all_names)):\n",
    "    name_dict[name] = name\n",
    "    if name in names:\n",
    "        s = max(0, i-50); e = min(len(all_names)-1, i+50)\n",
    "        equiv = [x[0] for x in process.extract(name, all_names[s:e])]\n",
    "        names.remove(name)\n",
    "        for n in equiv: \n",
    "            name_dict[n] = name\n",
    "            try: names.remove(n)\n",
    "            except: pass"
   ]
  },
  {
   "cell_type": "code",
   "execution_count": 12,
   "id": "aea7e79c",
   "metadata": {
    "scrolled": true
   },
   "outputs": [],
   "source": [
    "df['White'] = df['White'].apply(lambda x: name_dict[x])\n",
    "df['Black'] = df['Black'].apply(lambda x: name_dict[x])\n",
    "df = df.drop_duplicates()\n",
    "df = df[~df['Misc'].str.contains('960|simul|Simul')]\n",
    "df = df[~df['Result'].str.contains('\\*')]"
   ]
  },
  {
   "cell_type": "code",
   "execution_count": 14,
   "id": "ae17bfd9",
   "metadata": {},
   "outputs": [],
   "source": [
    "df.to_csv('../data/games.csv')"
   ]
  }
 ],
 "metadata": {
  "kernelspec": {
   "display_name": "Python 3 (ipykernel)",
   "language": "python",
   "name": "python3"
  },
  "language_info": {
   "codemirror_mode": {
    "name": "ipython",
    "version": 3
   },
   "file_extension": ".py",
   "mimetype": "text/x-python",
   "name": "python",
   "nbconvert_exporter": "python",
   "pygments_lexer": "ipython3",
   "version": "3.10.2"
  }
 },
 "nbformat": 4,
 "nbformat_minor": 5
}
