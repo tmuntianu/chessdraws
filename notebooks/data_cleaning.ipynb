{
 "cells": [
  {
   "cell_type": "code",
   "execution_count": 1,
   "id": "5a35268b",
   "metadata": {},
   "outputs": [],
   "source": [
    "from chess import pgn\n",
    "from thefuzz import process\n",
    "import pandas as pd\n",
    "from tqdm import tqdm\n",
    "import re"
   ]
  },
  {
   "cell_type": "code",
   "execution_count": 12,
   "id": "e30335f4",
   "metadata": {
    "scrolled": true
   },
   "outputs": [
    {
     "name": "stderr",
     "output_type": "stream",
     "text": [
      "  6%|███▏                                                  | 332685/5611947 [20:45<5:38:46, 259.72it/s]ERROR:chess.pgn:error during pgn parsing\n",
      "Traceback (most recent call last):\n",
      "  File \"/home/tudor/.local/share/virtualenvs/chessdraws-_6Ch22Bv/lib/python3.10/site-packages/chess/__init__.py\", line 2959, in parse_san\n",
      "    return next(move for move in self.generate_castling_moves() if self.is_queenside_castling(move))\n",
      "StopIteration\n",
      "\n",
      "During handling of the above exception, another exception occurred:\n",
      "\n",
      "Traceback (most recent call last):\n",
      "  File \"/home/tudor/.local/share/virtualenvs/chessdraws-_6Ch22Bv/lib/python3.10/site-packages/chess/pgn.py\", line 1667, in read_game\n",
      "    move = visitor.parse_san(board_stack[-1], token)\n",
      "  File \"/home/tudor/.local/share/virtualenvs/chessdraws-_6Ch22Bv/lib/python3.10/site-packages/chess/pgn.py\", line 1045, in parse_san\n",
      "    return board.parse_san(san)\n",
      "  File \"/home/tudor/.local/share/virtualenvs/chessdraws-_6Ch22Bv/lib/python3.10/site-packages/chess/__init__.py\", line 2961, in parse_san\n",
      "    raise ValueError(f\"illegal san: {san!r} in {self.fen()}\")\n",
      "ValueError: illegal san: 'O-O-O' in 3r2k1/3qppbp/p4np1/1pQ5/2b5/B1P2B2/P2P1PPP/R3K2R w K - 2 24\n",
      "  7%|███▋                                                  | 385867/5611947 [23:55<4:41:59, 308.89it/s]ERROR:chess.pgn:error during pgn parsing\n",
      "Traceback (most recent call last):\n",
      "  File \"/home/tudor/.local/share/virtualenvs/chessdraws-_6Ch22Bv/lib/python3.10/site-packages/chess/__init__.py\", line 2959, in parse_san\n",
      "    return next(move for move in self.generate_castling_moves() if self.is_queenside_castling(move))\n",
      "StopIteration\n",
      "\n",
      "During handling of the above exception, another exception occurred:\n",
      "\n",
      "Traceback (most recent call last):\n",
      "  File \"/home/tudor/.local/share/virtualenvs/chessdraws-_6Ch22Bv/lib/python3.10/site-packages/chess/pgn.py\", line 1667, in read_game\n",
      "    move = visitor.parse_san(board_stack[-1], token)\n",
      "  File \"/home/tudor/.local/share/virtualenvs/chessdraws-_6Ch22Bv/lib/python3.10/site-packages/chess/pgn.py\", line 1045, in parse_san\n",
      "    return board.parse_san(san)\n",
      "  File \"/home/tudor/.local/share/virtualenvs/chessdraws-_6Ch22Bv/lib/python3.10/site-packages/chess/__init__.py\", line 2961, in parse_san\n",
      "    raise ValueError(f\"illegal san: {san!r} in {self.fen()}\")\n",
      "ValueError: illegal san: 'O-O-O' in r3k2r/3nbppp/1nppp3/p4PP1/1p1PP3/3PBNN1/PP5P/1K1R3R b k - 0 18\n",
      " 14%|███████▊                                              | 806047/5611947 [49:40<3:42:09, 360.55it/s]ERROR:chess.pgn:error during pgn parsing\n",
      "Traceback (most recent call last):\n",
      "  File \"/home/tudor/.local/share/virtualenvs/chessdraws-_6Ch22Bv/lib/python3.10/site-packages/chess/pgn.py\", line 1667, in read_game\n",
      "    move = visitor.parse_san(board_stack[-1], token)\n",
      "  File \"/home/tudor/.local/share/virtualenvs/chessdraws-_6Ch22Bv/lib/python3.10/site-packages/chess/pgn.py\", line 1045, in parse_san\n",
      "    return board.parse_san(san)\n",
      "  File \"/home/tudor/.local/share/virtualenvs/chessdraws-_6Ch22Bv/lib/python3.10/site-packages/chess/__init__.py\", line 3018, in parse_san\n",
      "    raise ValueError(f\"illegal san: {san!r} in {self.fen()}\")\n",
      "ValueError: illegal san: 'bxc1=N' in 8/6qk/8/5KPp/1Q3p2/4P1P1/1p6/8 b - - 1 69\n",
      " 15%|████████                                              | 838511/5611947 [51:39<4:24:21, 300.95it/s]ERROR:chess.pgn:error during pgn parsing\n",
      "Traceback (most recent call last):\n",
      "  File \"/home/tudor/.local/share/virtualenvs/chessdraws-_6Ch22Bv/lib/python3.10/site-packages/chess/__init__.py\", line 2959, in parse_san\n",
      "    return next(move for move in self.generate_castling_moves() if self.is_queenside_castling(move))\n",
      "StopIteration\n",
      "\n",
      "During handling of the above exception, another exception occurred:\n",
      "\n",
      "Traceback (most recent call last):\n",
      "  File \"/home/tudor/.local/share/virtualenvs/chessdraws-_6Ch22Bv/lib/python3.10/site-packages/chess/pgn.py\", line 1667, in read_game\n",
      "    move = visitor.parse_san(board_stack[-1], token)\n",
      "  File \"/home/tudor/.local/share/virtualenvs/chessdraws-_6Ch22Bv/lib/python3.10/site-packages/chess/pgn.py\", line 1045, in parse_san\n",
      "    return board.parse_san(san)\n",
      "  File \"/home/tudor/.local/share/virtualenvs/chessdraws-_6Ch22Bv/lib/python3.10/site-packages/chess/__init__.py\", line 2961, in parse_san\n",
      "    raise ValueError(f\"illegal san: {san!r} in {self.fen()}\")\n",
      "ValueError: illegal san: 'O-O-O' in r4bk1/1q1b1pp1/5n1p/P1p5/1pB1P3/1N3P1P/2QB2r1/R3K2R w K - 0 26\n",
      " 16%|████████▍                                             | 880148/5611947 [54:05<4:19:43, 303.64it/s]ERROR:chess.pgn:error during pgn parsing\n",
      "Traceback (most recent call last):\n",
      "  File \"/home/tudor/.local/share/virtualenvs/chessdraws-_6Ch22Bv/lib/python3.10/site-packages/chess/__init__.py\", line 2959, in parse_san\n",
      "    return next(move for move in self.generate_castling_moves() if self.is_queenside_castling(move))\n",
      "StopIteration\n",
      "\n",
      "During handling of the above exception, another exception occurred:\n",
      "\n",
      "Traceback (most recent call last):\n",
      "  File \"/home/tudor/.local/share/virtualenvs/chessdraws-_6Ch22Bv/lib/python3.10/site-packages/chess/pgn.py\", line 1667, in read_game\n",
      "    move = visitor.parse_san(board_stack[-1], token)\n",
      "  File \"/home/tudor/.local/share/virtualenvs/chessdraws-_6Ch22Bv/lib/python3.10/site-packages/chess/pgn.py\", line 1045, in parse_san\n",
      "    return board.parse_san(san)\n",
      "  File \"/home/tudor/.local/share/virtualenvs/chessdraws-_6Ch22Bv/lib/python3.10/site-packages/chess/__init__.py\", line 2961, in parse_san\n",
      "    raise ValueError(f\"illegal san: {san!r} in {self.fen()}\")\n",
      "ValueError: illegal san: 'O-O-O' in r3k3/1R1b2p1/r7/3p1p1p/1B1Pn3/P1P5/2P3PP/5RK1 b - - 0 30\n",
      " 38%|███████████████████▌                               | 2145802/5611947 [2:06:21<10:50:54, 88.75it/s]ERROR:chess.pgn:error during pgn parsing\n",
      "Traceback (most recent call last):\n",
      "  File \"/home/tudor/.local/share/virtualenvs/chessdraws-_6Ch22Bv/lib/python3.10/site-packages/chess/__init__.py\", line 2959, in parse_san\n",
      "    return next(move for move in self.generate_castling_moves() if self.is_queenside_castling(move))\n",
      "StopIteration\n",
      "\n",
      "During handling of the above exception, another exception occurred:\n",
      "\n",
      "Traceback (most recent call last):\n",
      "  File \"/home/tudor/.local/share/virtualenvs/chessdraws-_6Ch22Bv/lib/python3.10/site-packages/chess/pgn.py\", line 1667, in read_game\n",
      "    move = visitor.parse_san(board_stack[-1], token)\n",
      "  File \"/home/tudor/.local/share/virtualenvs/chessdraws-_6Ch22Bv/lib/python3.10/site-packages/chess/pgn.py\", line 1045, in parse_san\n",
      "    return board.parse_san(san)\n",
      "  File \"/home/tudor/.local/share/virtualenvs/chessdraws-_6Ch22Bv/lib/python3.10/site-packages/chess/__init__.py\", line 2961, in parse_san\n",
      "    raise ValueError(f\"illegal san: {san!r} in {self.fen()}\")\n",
      "ValueError: illegal san: 'O-O-O' in r4rk1/pp1n1pnp/2p2bp1/2Pp4/1P1P4/1N5P/1P3PPB/R3KB1R w K - 3 18\n",
      " 51%|█████████████████████████▊                         | 2839386/5611947 [2:45:05<2:36:34, 295.12it/s]ERROR:chess.pgn:error during pgn parsing\n",
      "Traceback (most recent call last):\n",
      "  File \"/home/tudor/.local/share/virtualenvs/chessdraws-_6Ch22Bv/lib/python3.10/site-packages/chess/pgn.py\", line 1667, in read_game\n",
      "    move = visitor.parse_san(board_stack[-1], token)\n",
      "  File \"/home/tudor/.local/share/virtualenvs/chessdraws-_6Ch22Bv/lib/python3.10/site-packages/chess/pgn.py\", line 1045, in parse_san\n",
      "    return board.parse_san(san)\n",
      "  File \"/home/tudor/.local/share/virtualenvs/chessdraws-_6Ch22Bv/lib/python3.10/site-packages/chess/__init__.py\", line 3018, in parse_san\n",
      "    raise ValueError(f\"illegal san: {san!r} in {self.fen()}\")\n",
      "ValueError: illegal san: 'Ke5' in 8/2p4p/pp2k1p1/2p3P1/P1P1K2P/1P6/8/8 b - - 3 41\n",
      " 66%|█████████████████████████████████▌                 | 3694002/5611947 [3:35:28<2:02:15, 261.45it/s]ERROR:chess.pgn:error during pgn parsing\n",
      "Traceback (most recent call last):\n",
      "  File \"/home/tudor/.local/share/virtualenvs/chessdraws-_6Ch22Bv/lib/python3.10/site-packages/chess/__init__.py\", line 2959, in parse_san\n",
      "    return next(move for move in self.generate_castling_moves() if self.is_queenside_castling(move))\n",
      "StopIteration\n",
      "\n",
      "During handling of the above exception, another exception occurred:\n",
      "\n",
      "Traceback (most recent call last):\n",
      "  File \"/home/tudor/.local/share/virtualenvs/chessdraws-_6Ch22Bv/lib/python3.10/site-packages/chess/pgn.py\", line 1667, in read_game\n",
      "    move = visitor.parse_san(board_stack[-1], token)\n",
      "  File \"/home/tudor/.local/share/virtualenvs/chessdraws-_6Ch22Bv/lib/python3.10/site-packages/chess/pgn.py\", line 1045, in parse_san\n",
      "    return board.parse_san(san)\n",
      "  File \"/home/tudor/.local/share/virtualenvs/chessdraws-_6Ch22Bv/lib/python3.10/site-packages/chess/__init__.py\", line 2961, in parse_san\n",
      "    raise ValueError(f\"illegal san: {san!r} in {self.fen()}\")\n",
      "ValueError: illegal san: 'O-O-O' in r3k2r/1pqbbp2/p1n1pp2/7p/B7/2N1QN2/PP3PPP/2R1R1K1 b - - 1 19\n"
     ]
    },
    {
     "name": "stderr",
     "output_type": "stream",
     "text": [
      " 78%|████████████████████████████████████████           | 4404701/5611947 [4:18:38<1:15:33, 266.30it/s]ERROR:chess.pgn:error during pgn parsing\n",
      "Traceback (most recent call last):\n",
      "  File \"/home/tudor/.local/share/virtualenvs/chessdraws-_6Ch22Bv/lib/python3.10/site-packages/chess/__init__.py\", line 2957, in parse_san\n",
      "    return next(move for move in self.generate_castling_moves() if self.is_kingside_castling(move))\n",
      "StopIteration\n",
      "\n",
      "During handling of the above exception, another exception occurred:\n",
      "\n",
      "Traceback (most recent call last):\n",
      "  File \"/home/tudor/.local/share/virtualenvs/chessdraws-_6Ch22Bv/lib/python3.10/site-packages/chess/pgn.py\", line 1667, in read_game\n",
      "    move = visitor.parse_san(board_stack[-1], token)\n",
      "  File \"/home/tudor/.local/share/virtualenvs/chessdraws-_6Ch22Bv/lib/python3.10/site-packages/chess/pgn.py\", line 1045, in parse_san\n",
      "    return board.parse_san(san)\n",
      "  File \"/home/tudor/.local/share/virtualenvs/chessdraws-_6Ch22Bv/lib/python3.10/site-packages/chess/__init__.py\", line 2961, in parse_san\n",
      "    raise ValueError(f\"illegal san: {san!r} in {self.fen()}\")\n",
      "ValueError: illegal san: 'O-O' in 4k2r/3n1p2/4p3/1N1PPp2/5P1p/7P/1R3BP1/2rbN2K b - - 2 34\n",
      " 95%|██████████████████████████████████████████████████▏  | 5313129/5611947 [5:20:50<18:33, 268.43it/s]ERROR:chess.pgn:error during pgn parsing\n",
      "Traceback (most recent call last):\n",
      "  File \"/home/tudor/.local/share/virtualenvs/chessdraws-_6Ch22Bv/lib/python3.10/site-packages/chess/__init__.py\", line 2957, in parse_san\n",
      "    return next(move for move in self.generate_castling_moves() if self.is_kingside_castling(move))\n",
      "StopIteration\n",
      "\n",
      "During handling of the above exception, another exception occurred:\n",
      "\n",
      "Traceback (most recent call last):\n",
      "  File \"/home/tudor/.local/share/virtualenvs/chessdraws-_6Ch22Bv/lib/python3.10/site-packages/chess/pgn.py\", line 1667, in read_game\n",
      "    move = visitor.parse_san(board_stack[-1], token)\n",
      "  File \"/home/tudor/.local/share/virtualenvs/chessdraws-_6Ch22Bv/lib/python3.10/site-packages/chess/pgn.py\", line 1045, in parse_san\n",
      "    return board.parse_san(san)\n",
      "  File \"/home/tudor/.local/share/virtualenvs/chessdraws-_6Ch22Bv/lib/python3.10/site-packages/chess/__init__.py\", line 2961, in parse_san\n",
      "    raise ValueError(f\"illegal san: {san!r} in {self.fen()}\")\n",
      "ValueError: illegal san: 'O-O' in r2k3r/2pPp3/p4n2/3b2B1/1p5P/2qP4/3RQ1P1/4K2R w - - 2 31\n",
      "100%|█████████████████████████████████████████████████████| 5611947/5611947 [5:39:43<00:00, 275.32it/s]\n"
     ]
    }
   ],
   "source": [
    "fields = ['White', 'WhiteElo', 'Black', 'BlackElo', 'Result', 'Date']\n",
    "data = []\n",
    "with tqdm(total=5611947) as pbar:\n",
    "    with open('../data/caissabase.pgn') as database:\n",
    "        game = pgn.read_game(database)\n",
    "        gidx = 0\n",
    "        while game is not None:\n",
    "            head = game.headers\n",
    "            try: \n",
    "                row = [gidx] + [head[x] for x in fields]\n",
    "                row.append(game.end().ply() // 2 + 1)\n",
    "                misc = ''\n",
    "                if 'Event' in head: misc += head['Event']\n",
    "                if 'Site' in head: misc += head['Site']\n",
    "                row.append(misc)\n",
    "                data.append(row)\n",
    "            except: pass\n",
    "            game = pgn.read_game(database)\n",
    "            pbar.update(1)\n",
    "            gidx += 1"
   ]
  },
  {
   "cell_type": "code",
   "execution_count": 13,
   "id": "7b389eeb",
   "metadata": {},
   "outputs": [],
   "source": [
    "df = pd.DataFrame(data, columns=['GameIdx'] + fields + ['NMoves', 'Misc'])"
   ]
  },
  {
   "cell_type": "code",
   "execution_count": 14,
   "id": "b4a0c501",
   "metadata": {},
   "outputs": [
    {
     "name": "stderr",
     "output_type": "stream",
     "text": [
      "  0%|                                   | 0/137774 [00:00<?, ?it/s]WARNING:root:Applied processor reduces input query to empty string, all comparisons will have score 0. [Query: '']\n",
      "WARNING:root:Applied processor reduces input query to empty string, all comparisons will have score 0. [Query: '?']\n",
      "100%|█████████████████████| 137774/137774 [03:49<00:00, 600.10it/s]\n"
     ]
    }
   ],
   "source": [
    "names = set(pd.concat([df['White'], df['Black']]))\n",
    "all_names = sorted(names)\n",
    "name_dict = dict()\n",
    "\n",
    "for i, name in enumerate(tqdm(all_names)):\n",
    "    name_dict[name] = name\n",
    "    if name in names:\n",
    "        s = max(0, i-50); e = min(len(all_names)-1, i+50)\n",
    "        equiv = [x[0] for x in process.extract(name, all_names[s:e])]\n",
    "        names.remove(name)\n",
    "        for n in equiv: \n",
    "            name_dict[n] = name\n",
    "            try: names.remove(n)\n",
    "            except: pass"
   ]
  },
  {
   "cell_type": "code",
   "execution_count": 15,
   "id": "aea7e79c",
   "metadata": {
    "scrolled": true
   },
   "outputs": [],
   "source": [
    "df['White'] = df['White'].apply(lambda x: name_dict[x])\n",
    "df['Black'] = df['Black'].apply(lambda x: name_dict[x])\n",
    "df = df.drop_duplicates()\n",
    "df = df[~df['Misc'].str.contains('960|simul|Simul')]\n",
    "df = df[~df['Result'].str.contains('\\*')]"
   ]
  },
  {
   "cell_type": "code",
   "execution_count": 16,
   "id": "ae17bfd9",
   "metadata": {},
   "outputs": [],
   "source": [
    "df.to_csv('../data/games.csv')"
   ]
  },
  {
   "cell_type": "code",
   "execution_count": 17,
   "id": "3a9dbb0e",
   "metadata": {},
   "outputs": [],
   "source": [
    "# df.to_csv('~/justincase.csv')"
   ]
  },
  {
   "cell_type": "code",
   "execution_count": null,
   "id": "b9ccc4a1",
   "metadata": {},
   "outputs": [],
   "source": []
  }
 ],
 "metadata": {
  "kernelspec": {
   "display_name": "Python 3 (ipykernel)",
   "language": "python",
   "name": "python3"
  },
  "language_info": {
   "codemirror_mode": {
    "name": "ipython",
    "version": 3
   },
   "file_extension": ".py",
   "mimetype": "text/x-python",
   "name": "python",
   "nbconvert_exporter": "python",
   "pygments_lexer": "ipython3",
   "version": "3.10.2"
  }
 },
 "nbformat": 4,
 "nbformat_minor": 5
}
